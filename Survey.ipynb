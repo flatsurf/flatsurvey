{
 "cells": [
  {
   "cell_type": "markdown",
   "metadata": {},
   "source": [
    "# Querying our GraphQL API"
   ]
  },
  {
   "cell_type": "markdown",
   "metadata": {},
   "source": [
    "The PostgreSQL database exposes a GraphQL API that one could query directly. Usually it's more convenient to use the caching interface that we use in the flatsurvey scripts themselves to speed up surveys."
   ]
  },
  {
   "cell_type": "code",
   "execution_count": 1,
   "metadata": {},
   "outputs": [],
   "source": [
    "from flatsurvey.cache import GraphQL\n",
    "cache = GraphQL()"
   ]
  },
  {
   "cell_type": "markdown",
   "metadata": {},
   "source": [
    "## Interval Exchange Transformations which remained Undetermined"
   ]
  },
  {
   "cell_type": "code",
   "execution_count": 2,
   "metadata": {},
   "outputs": [],
   "source": [
    "from flatsurvey.jobs import UndeterminedIntervalExchangeTransformation"
   ]
  },
  {
   "cell_type": "markdown",
   "metadata": {},
   "source": [
    "If we are not interested in the undetermined components but just in the Interval Exchange Transformations that they correspond to, we can pull these directly from the database."
   ]
  },
  {
   "cell_type": "code",
   "execution_count": 3,
   "metadata": {},
   "outputs": [],
   "source": [
    "undetermined = cache.results(\n",
    "    job=UndeterminedIntervalExchangeTransformation,\n",
    "    filter=\"intervals: { lessThan: 9 } degree: { lessThan: 5 }\")"
   ]
  },
  {
   "cell_type": "markdown",
   "metadata": {},
   "source": [
    "The easiest way to get the original `pyintervalxt` objects back from this iterable of rows is to call `.results()`. Note that this gives a lazy iterable, so converting that to a list might result in a very substantial number of downloads. It is usually best to loop of the results instead."
   ]
  },
  {
   "cell_type": "code",
   "execution_count": 4,
   "metadata": {},
   "outputs": [],
   "source": [
    "iets = undetermined.results()"
   ]
  },
  {
   "cell_type": "markdown",
   "metadata": {},
   "source": [
    "We zoom in on the first IET returned:"
   ]
  },
  {
   "cell_type": "code",
   "execution_count": 5,
   "metadata": {
    "scrolled": false
   },
   "outputs": [
    {
     "data": {
      "text/plain": [
       "[a: (-2639487616593692358066855581592185924618270835741586414871941205927606619638311916472282790225563603089371645696/3*c^3 + 263991386043436930863846661657435256879331459855940382016061134637805669849439332614169772877834141125860210048/3*c^2 + 28579959189761353644528317576652975865389276294845731629568031083509321325902759493325643941787212154535734026368/9*c - 911185582088210381587160815590341008515670886431230703455744040456984472188468204618700513586601950212952928000/3 ~ 5.2386539e-150)] [b: (-61104658941820264073880185364287257217570439332079248449400636810781171511335935951296916817433031060920977300608/9*c^3 + 679050295231167782934678272167015020369799275103141577405980521765328279735634107891543069414289248164108879744*c^2 + 73514632489974214405726442071519246912742976359396853172059831983209067422967914142011670300824887413511565401344/3*c - 7031375316453419491414977073081179780654635543160103945412014614853758921104404931805668268840971769100394546560/3 ~ 6.3274550e-152)] [c: (97153687548230585382926935783121881383992065289740806130164105289341588843942883488949713394668551210879292363520*c^3 - 29150812991713070940006017475581059862415388827031545475537407549379881944184586205524079722204783175849926482688/3*c^2 - 350654979121360950436893198965010703167498925096090493115336825399571568775799849077125372839960393944027810037248*c + 100616163664628749341714072166778769521497982832012317156404710902411667037725025809934886304335884881371484519680/3 ~ 5.7415433e-152)] [d: (-640040050471159021651077890991276486051543071655254088714185070651799338064542615500654074108021873011830455257472/9*c^3 + 21338113627932724448021943372876134366155193599748969396247847394835787858283053314655286696306543378863966563328/3*c^2 + 2310084528941655936329510169463278740189871842126364725107081851507249573082350084006921650234424526080133261538432/9*c - 73650060246788209799499914057447289244936370586873480955082101034365879875209517032595527405712956929014532453760/3 ~ 7.2010590e-152)] [e: (145282996038297965431139283619105306017547962610210850818641952258002417799375839425188346241664588519502975794816/3*c^3 - 14530645740323376116930381001356814905402266478435610985110476288261372561808140827379741197482797147628005337088/3*c^2 - 524367187989726095709772392301108036380700490244586914735716112316572778175142249111654725430309658091602863209984/3*c + 50153586809971186930823708224916390878779010497350946109010259732482029941650866554408609652185601845524972529920/3 ~ 1.1562525e-151)] [f: (-687429132216917572588174528705306272479475404301100969178443077629359046220827115499853885588603474236519113198464/9*c^3 + 22918004777353777821228501869343842005197354421226512075047083674181941181177443492612689658672299526322630872448/3*c^2 + 2481125051329342430472670674915704894962270010983853532694989252994483954522241295555536924988946930195468378465792/9*c - 79103170131155300190224550293357022124765690394467573886361912431592919420896092743384852807751121357615117096320/3 ~ 2.7703647e-152)] [g: (5520830720449323707269141485982655094497621828688389857309859839451334681890549819323398244256811636444013446784*c^3 - 1656516679419172943790748460129612034164422977285257631764022551150799111029070615783728792106890641245932540288/3*c^2 - 19926230592643969099095543363375008783909717363227545181808315152542629322649909447651066786747962833359740297728*c + 1905862835649536423964274363941061409133433042553876740662736043168940975185095095834013373246589662888764903040 ~ 1.4277119e-151)] [h: (56845236078839914209639873616989718780056598604797536654929841834025885533141751423873190960694860207598700302208/9*c^3 - 631715731832735187262537692107808388677376267020739465553028911598585008141939363149479372943843100154886534528*c^2 - 205170442557612172899282234857294614339193394573620325255216489651327174207864572191306228336848750356476514548480/9*c + 2180413063665570408104918415543279561777970950221757060548552540658144501439747825727573462899732807477109056640 ~ 8.5322530e-151)] / [g] [f] [e] [d] [c] [h] [b] [a]"
      ]
     },
     "execution_count": 5,
     "metadata": {},
     "output_type": "execute_result"
    }
   ],
   "source": [
    "iet = next(iets)\n",
    "iet"
   ]
  },
  {
   "cell_type": "markdown",
   "metadata": {},
   "source": [
    "Sanity check that it should have been discarded by Boshernitzan's algorithm right away:"
   ]
  },
  {
   "cell_type": "code",
   "execution_count": 6,
   "metadata": {},
   "outputs": [
    {
     "data": {
      "text/plain": [
       "False"
      ]
     },
     "execution_count": 6,
     "metadata": {},
     "output_type": "execute_result"
    }
   ],
   "source": [
    "iet.boshernitzanNoPeriodicTrajectory()"
   ]
  },
  {
   "cell_type": "markdown",
   "metadata": {},
   "source": [
    "We already did quite a few induction steps on these; how many can be seen from the `invocation`, namely it's the `--limit` of `flow-decomposition`. When there is no such limit, it is just the default which currently is 256."
   ]
  },
  {
   "cell_type": "code",
   "execution_count": 7,
   "metadata": {},
   "outputs": [
    {
     "data": {
      "text/plain": [
       "{'id': '4d166a1e-685a-11eb-bcf5-061402de139a',\n",
       " 'timestamp': datetime.datetime(2021, 2, 6, 9, 4, 21, 452139, tzinfo=tzutc()),\n",
       " 'data': {'lot': 7506735730201822000,\n",
       "  'degree': 4,\n",
       "  'result': <function Results._resolve.<locals>.restore at 0x7fee27a7a440>,\n",
       "  'command': ['undetermined-iet'],\n",
       "  'intervals': 8,\n",
       "  'invocation': ['/dev/shm/ruth/flatsurvey/flatsurvey/worker/__main__.py',\n",
       "   'log',\n",
       "   '--output=ngon-1-3-3-3.log',\n",
       "   'graphql',\n",
       "   'orbit-closure',\n",
       "   'undetermined-iet',\n",
       "   'flow-decompositions',\n",
       "   '--limit=1024',\n",
       "   'pickle',\n",
       "   '--base64',\n",
       "   'eJyVVgd4FFUQDqEvCCIIVsR+qLkUjIJYiDQhcuIAepa4bvZebtfs7ebf3QtEjaC4t8TeK/bee++99957772X2XLkEgLil+97t9P/mTczL4vK1SZDcZ283SrakvzTpKjCSZpZy3SkFJ8SyhrQK6E6SlYkbd3MOknddEVW2FJOaRZykUB5uldZWVk1envoQ+irRfQ49PPQnzBAK9f4ayBBir4GEQaLdH9WERWK6eoqVusSxMznGoUtN+nCyHQhZGGInDBdKRUypwW8qRFLVhody8i7QsKQyJfj2nnVzdsiyXm5lt0mZYUpbF2VY1rOmy262mywydDEimwMy2rOt8hZw2pUDAmrpycw7FXBmizBKLcK29EtswbDPKxBGF4/sL68gBFdsrYVl1UUIzKXKCZDBxLWHEsYWareYhltppXTFaPkU+50YvDtSLNXKMGoxCp4Y5mscjuEZbFsqVgxudMxsY6EtRLayPDSF2BtD+ukOlysS1ivAev3mGPUP8sojA5ta7GBhzGEDbWIrsJGHjYmbMJ0OdMVtdjUw2aEzbXRGosShLH8xV23BWFL0cFBtyJUhLYqkh4qu99qps1UctwBqqE4jtSVQlUiPYYt64ysaLQVXSURV1+er7uarCrc7dwSqC7NCGhUbGl5Gwk1qiw35nXD1U1Z5t5zFdflWRnXHVPe1JHnYogWWzjcyWFRuNK2yORV7s2tI4M4vM4TWkQizbR0c3KRQG2kmNMdlVUMQwoOOSdczWI422jd/5Z3nFOyOcWRFTMjK5mM7uqtQo540qzwp87M1MWCiCFh27HtGO9jAmG79CAuX1QsZYFu5TAxPZg5U3ROVm/MB1bY3scOhB21ienhQa1jZ3WOY6m6Emrs5GMSoa6bxmQrl8u7kcbOPiYTprDGkBKNeabuKgam+phGmM7CAE2p4118zCDMZMnQErMZZjCcAvU+diXMYmk/lsbOUj52I8xm5oAwkVY9GGPs7oMIc+IYpdDm+phH2KPH6jrCdYIukubwh4Q9uXBpH3sR9o79zzCbdI4rsI+PfQkNBeznQW7H/j4UQmNYzBbFDrZd2LJQC8gQRAFNqZRW4yJL0HhP6P/RoBIO6EEjNXWBK8wgv3ilSmheiaPpwTJVgqUAQxua0IZrI3gHaKMS2rJd0IacBzPYBRahpQFI8LTyiNsEJ5pgl5DvHO5WD/MJCyJRG+HAaLgPIhwcDnc74ZDQsYKFHhaltIWpjpSLQ9txWLpvMPOaUJuxuMNxcTjB6ylHsizOq7CSvDo321xbUZuD580PsmL8S2L8HYQjIpBHEo7qxH+0h2MIx0ai4wjHR/hPIJwY4j+JcLKHUwindtmJfCNyrqVJl2RZZcIVshzc0gx+Xe3WeJ0UX7n4IamWcNr/9lE0rpJwev2kjgLOIJzZkxe7m5foJSsxX7oqVt1jnsUx0324UpSaMg9n+ziHcG56WPCPQ9KxLVGTqamd0Ip8dlIVzqsf4+N8wgXaUq3Ubgou9HER4eIe7FS2uySwu5RwmY/LCVfU9/JxJeGqAq4mXKMN0bxif2r8Sl0bdOZ1hOsbcEMiurQbCTdFl3Yz4Zbw0m4l3FbA7YQ7CriTcJeHuwn3FHCvlgy777523K8tXsI99wDhwcA/+3soEXeFXoWHPTxCeJQZQY9W1FRVjsNjHh4nPMG83gFvXBZPeniK8HTMybLOMx6eJTwXgnie8EIBLxJe4iSKQV4OggSFqRjP6q94eJXwWhy32sLrHt4gvBl7HF/ZhLc8vE14p4ik2qqsxbse3iO8H0b5gPBhAR8RPi6J8klcmk8Jn8XxqqvY8HMPXxC+jIRfEb7uBFOLbzx8S/gu9Po94YcCfiT8VOL15y7Yf/HwK+G3mDUhwPW7hz8If5ag/8vD34R/SupYa5fxNvDsXnySXc5nENDuHZJ9+CzYfcPvfny6dn8+fXtAyBnIZ/JfxQT09A==']},\n",
       " 'surface': {'id': 'e68dc56e-684d-11eb-bf0f-061402de139a',\n",
       "  'data': <function Results._resolve.<locals>.restore at 0x7fee27a75b90>}}"
      ]
     },
     "execution_count": 7,
     "metadata": {},
     "output_type": "execute_result"
    }
   ],
   "source": [
    "next(iter(undetermined))"
   ]
  },
  {
   "cell_type": "markdown",
   "metadata": {},
   "source": [
    "Let's try harder by running more iterations on top of the previous ones:"
   ]
  },
  {
   "cell_type": "code",
   "execution_count": 8,
   "metadata": {},
   "outputs": [
    {
     "data": {
      "text/plain": [
       "LIMIT_REACHED"
      ]
     },
     "execution_count": 8,
     "metadata": {},
     "output_type": "execute_result"
    }
   ],
   "source": [
    "iet.induce(10000R)"
   ]
  },
  {
   "cell_type": "code",
   "execution_count": 9,
   "metadata": {},
   "outputs": [
    {
     "data": {
      "text/plain": [
       "NON_SEPARATING_CONNECTION()"
      ]
     },
     "execution_count": 9,
     "metadata": {},
     "output_type": "execute_result"
    }
   ],
   "source": [
    "iet.induce(10000R)"
   ]
  },
  {
   "cell_type": "markdown",
   "metadata": {},
   "source": [
    "## Surfaces with non-dense Orbit Closure"
   ]
  },
  {
   "cell_type": "code",
   "execution_count": null,
   "metadata": {},
   "outputs": [],
   "source": [
    "from flatsurvey.jobs import OrbitClosure"
   ]
  },
  {
   "cell_type": "markdown",
   "metadata": {},
   "source": [
    "We pull all OrbitClosures from the cache where we could not determine that the orbit closure was dense. Since we can currently never determine that the orbit closure is *not* dense, these are the ones where the search was inconclusive, that is, it reported `None` which turns to `null` in this API."
   ]
  },
  {
   "cell_type": "code",
   "execution_count": null,
   "metadata": {},
   "outputs": [],
   "source": [
    "nondense = cache.query(job=OrbitClosure, result_filter=\"dense: { isNull: true }\")"
   ]
  },
  {
   "cell_type": "markdown",
   "metadata": {},
   "source": [
    "The underlying objects from the database are in `.nodes()`. Each of these nodes corresponds to one `OrbitClosure` computation. The corresponding surface is a pickle that can be recovered with such a call:"
   ]
  },
  {
   "cell_type": "code",
   "execution_count": null,
   "metadata": {},
   "outputs": [],
   "source": [
    "nondense.nodes()[0]['surface']()"
   ]
  },
  {
   "cell_type": "markdown",
   "metadata": {},
   "source": [
    "Let's recover all the surfaces and remove duplicates:"
   ]
  },
  {
   "cell_type": "code",
   "execution_count": null,
   "metadata": {},
   "outputs": [],
   "source": [
    "surfaces = set(node['surface']() for node in nondense.nodes())"
   ]
  },
  {
   "cell_type": "markdown",
   "metadata": {},
   "source": [
    "We remove all the surfaces that we already know about as encoded by `.reference()`."
   ]
  },
  {
   "cell_type": "code",
   "execution_count": null,
   "metadata": {},
   "outputs": [],
   "source": [
    "surfaces = set(surface for surface in surfaces if surface.reference() is None)"
   ]
  },
  {
   "cell_type": "markdown",
   "metadata": {},
   "source": [
    "Note that this set might appear to contain duplicates since e.g. two quadrilaterals with differently chosen random lengths are printed in the same way. Let's remove these \"duplicates\" as well."
   ]
  },
  {
   "cell_type": "code",
   "execution_count": null,
   "metadata": {},
   "outputs": [],
   "source": [
    "surfaces = set(str(surface) for surface in surfaces)"
   ]
  },
  {
   "cell_type": "markdown",
   "metadata": {},
   "source": [
    "Some of the orbit closure computations might not have found the full dimension of the orbit closure because they did not search deep enough. Let's recover all the computations for our surfaces and remove the surfaces where some run reported a dense orbit closure.\n",
    "\n",
    "We could use `cache.query` again for this. To determine the cached results for a fixed surface, `cache.results()` provides a wrapper around `cache.query` for this."
   ]
  },
  {
   "cell_type": "code",
   "execution_count": null,
   "metadata": {},
   "outputs": [],
   "source": [
    "orbit_closures = {\n",
    "    name: cache.results(job=OrbitClosure, surface=name) for name in surfaces\n",
    "}"
   ]
  },
  {
   "cell_type": "markdown",
   "metadata": {},
   "source": [
    "We filter out all the surfaces where some run determined that the orbit closure was dense.\n",
    "\n",
    "This could be done by comparing `node['dense']` for each node in `.nodes()`. Here we use `.reduce()` which calls into `OrbitClosure` to combine the results of several runs."
   ]
  },
  {
   "cell_type": "code",
   "execution_count": null,
   "metadata": {},
   "outputs": [],
   "source": [
    "orbit_closure = {\n",
    "    name: cached for (name, cached) in orbit_closures.items() if cached.reduce() is None\n",
    "}"
   ]
  },
  {
   "cell_type": "code",
   "execution_count": null,
   "metadata": {},
   "outputs": [],
   "source": [
    "orbit_closures"
   ]
  },
  {
   "cell_type": "markdown",
   "metadata": {},
   "source": [
    "Let's zoom in on one particular surface:"
   ]
  },
  {
   "cell_type": "code",
   "execution_count": null,
   "metadata": {},
   "outputs": [],
   "source": [
    "orbit_closures = orbit_closures['Ngon([3, 4, 13])']"
   ]
  },
  {
   "cell_type": "markdown",
   "metadata": {},
   "source": [
    "Again, `.nodes()` contains the raw data stored in the database."
   ]
  },
  {
   "cell_type": "code",
   "execution_count": null,
   "metadata": {},
   "outputs": [],
   "source": [
    "orbit_closures.nodes()"
   ]
  },
  {
   "cell_type": "markdown",
   "metadata": {},
   "source": [
    "To unpickle all the `['result']` objects at once, we can use `.results()`:"
   ]
  },
  {
   "cell_type": "code",
   "execution_count": null,
   "metadata": {},
   "outputs": [],
   "source": [
    "orbit_closures.results()"
   ]
  },
  {
   "cell_type": "markdown",
   "metadata": {},
   "source": [
    "## Flow Decompositions with Undetermined Components"
   ]
  },
  {
   "cell_type": "code",
   "execution_count": null,
   "metadata": {},
   "outputs": [],
   "source": [
    "from flatsurvey.jobs import FlowDecompositions"
   ]
  },
  {
   "cell_type": "markdown",
   "metadata": {},
   "source": [
    "We pull all the flow decompositions coming from triangles from the database that had undetermined components.\n",
    "\n",
    "Note we need to `limit` the result to the most recent decompositions since there are way too many (>500k) in the database to download them all:"
   ]
  },
  {
   "cell_type": "code",
   "execution_count": null,
   "metadata": {},
   "outputs": [],
   "source": [
    "undetermined = cache.query(job=FlowDecompositions, surface_filter=\"vertices: { equalTo: 3 }\", result_filter=\"undetermined: { notEqualTo: 0 }\", limit=32)"
   ]
  },
  {
   "cell_type": "markdown",
   "metadata": {},
   "source": [
    "Let's zoom in on one such decomposition:"
   ]
  },
  {
   "cell_type": "code",
   "execution_count": null,
   "metadata": {},
   "outputs": [],
   "source": [
    "undetermined = undetermined.nodes()[0]"
   ]
  },
  {
   "cell_type": "markdown",
   "metadata": {},
   "source": [
    "Unforfunately, `flatsurf::FlowDecomposition` cannot be pickled currently so trying to recover the pickle fails:"
   ]
  },
  {
   "cell_type": "code",
   "execution_count": null,
   "metadata": {},
   "outputs": [],
   "source": [
    "undetermined['result']"
   ]
  },
  {
   "cell_type": "markdown",
   "metadata": {},
   "source": [
    "But we can recover the surface and the direction that were used:"
   ]
  },
  {
   "cell_type": "code",
   "execution_count": null,
   "metadata": {},
   "outputs": [],
   "source": [
    "import pyflatsurf\n",
    "surface = undetermined['surface']()\n",
    "direction = undetermined['orientation']()"
   ]
  },
  {
   "cell_type": "code",
   "execution_count": null,
   "metadata": {},
   "outputs": [],
   "source": [
    "surface"
   ]
  },
  {
   "cell_type": "markdown",
   "metadata": {},
   "source": [
    "And from this we can recover the decomposition:"
   ]
  },
  {
   "cell_type": "code",
   "execution_count": null,
   "metadata": {},
   "outputs": [],
   "source": [
    "pyflatsurf.flatsurf.makeFlowDecomposition(surface.flat_triangulation(), direction)"
   ]
  }
 ],
 "metadata": {
  "kernelspec": {
   "display_name": "SageMath 9.2",
   "language": "sage",
   "name": "sagemath"
  },
  "language_info": {
   "codemirror_mode": {
    "name": "ipython",
    "version": 3
   },
   "file_extension": ".py",
   "mimetype": "text/x-python",
   "name": "python",
   "nbconvert_exporter": "python",
   "pygments_lexer": "ipython3",
   "version": "3.7.6"
  }
 },
 "nbformat": 4,
 "nbformat_minor": 4
}
