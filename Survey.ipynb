{
 "cells": [
  {
   "cell_type": "markdown",
   "metadata": {},
   "source": [
    "# Querying our GraphQL API"
   ]
  },
  {
   "cell_type": "markdown",
   "metadata": {},
   "source": [
    "The PostgreSQL database exposes a GraphQL API that one could query directly. Usually it's more convenient to use the caching interface that we use in the flatsurvey scripts themselves to speed up surveys."
   ]
  },
  {
   "cell_type": "code",
   "execution_count": 1,
   "metadata": {},
   "outputs": [],
   "source": [
    "from flatsurvey.cache import GraphQL\n",
    "cache = GraphQL()"
   ]
  },
  {
   "cell_type": "markdown",
   "metadata": {},
   "source": [
    "## Interval Exchange Transformations which remained Undetermined"
   ]
  },
  {
   "cell_type": "code",
   "execution_count": 2,
   "metadata": {},
   "outputs": [],
   "source": [
    "from flatsurvey.jobs import UndeterminedIntervalExchangeTransformation"
   ]
  },
  {
   "cell_type": "markdown",
   "metadata": {},
   "source": [
    "If we are not interested in the undetermined components but just in the Interval Exchange Transformations that they correspond to, we can pull these directly from the database. Unfortunately, we cannot go through all of them presently, but only grab the last `limit` many that satisfy a certain condition:"
   ]
  },
  {
   "cell_type": "code",
   "execution_count": 3,
   "metadata": {},
   "outputs": [],
   "source": [
    "undetermined = cache.query(job=UndeterminedIntervalExchangeTransformation, limit=32, result_filter=\"intervals: { lessThan: 100 } degree: { lessThan: 100 }\")"
   ]
  },
  {
   "cell_type": "markdown",
   "metadata": {},
   "source": [
    "These Interval Exchange Transformations can be restored and studied with [pyintervalxt](https://github.com/flatsurf/intervalxt):"
   ]
  },
  {
   "cell_type": "code",
   "execution_count": 4,
   "metadata": {},
   "outputs": [],
   "source": [
    "iets = undetermined.results()"
   ]
  },
  {
   "cell_type": "code",
   "execution_count": 5,
   "metadata": {},
   "outputs": [
    {
     "data": {
      "text/plain": [
       "[a: (498137292107766099328380476558641700994898529762069451511932928*c^11 - 5586485596734741638224442545481536132732022807952457249265258496*c^9 + 22677056796017304407397531219989702840401141389891857656756510720*c^7 - 39550463377203907267522503493109669284648331102231827906595428352*c^5 + 26504882728830837821380853158597690686230388292186823404837736448*c^3 - 4191380339089180211940740929402974268549786942236608770816692224*c ~ 4.3754557e-106)] [b: (-160886931888135353032304647969886650660804245914473698938644480*c^11 + 1804306848598936689836169943982726703625826797355480322044372992*c^9 - 7324169761891671875405831621219997911455934539299784491577843712*c^7 + 12773893479122522954408231211899173159752252172329058927982919680*c^5 - 8560469833575693814765910442068724443758265748077272248564389888*c^3 + 1353719815234911577756572479491927556589492643985981386661099520*c ~ 1.3810545e-106)] [c: (-667529414867477718705465655713521691206943994245839430059669504*c^11 + 7486176041513120791712316595506959997968670919440497519284891648*c^9 - 30388414386714263356197099584155183878774817348888157815704463360*c^7 + 52999641051856339437928598525714593778073528158557936366251571200*c^5 - 35517896652054115205155082079692083294265859385086375881784309760*c^3 + 5616663738666116332178810515272648302121371563368878562329810944*c ~ 5.3473383e-107)] [d: (-4878438742980303676408911291475501956622811969559745746987008*c^11 + 54710474816319424885577738357505013619045726012800636163078144*c^9 - 222084622520870762764756577001158074490290334172193960756250624*c^7 + 387331998669040912305431480371559435622260954079718219745927168*c^5 - 259571907217864309730193782454759535357410983320428658538256384*c^3 + 41047704391905481535802406288354486773636002082840952245536768*c ~ 2.4655830e-106)] [e: (-36881126151220506126679538328339660646573767129013149841254400*c^11 + 413612639127872082573739576400426702015118935365878315345004544*c^9 - 1678965629959332121063187921911852098098047139246393099418589184*c^7 + 2928240170598952646010012801965784451893511301557030531164573696*c^5 - 1962370493314370680892100121653700752155767193061024213709627392*c^3 + 310321731636433506386308083731064274153646350610260582978564096*c ~ 1.7672498e-105)] [f: (438013095117412137439138465697579268571144511799106485271586816*c^11 - 4912207710261040029554748099890171545474622623038354359922362368*c^9 + 19939980388564645129238571486025290808303885414094080236357718016*c^7 - 34776799793747943818324237876497462634722904726928797673856251904*c^5 + 23305795217712664383618995960258609217009773322093358462921322496*c^3 - 3685488929244177040154870321870048395503223698627120601542647808*c ~ 8.2209299e-106)] [g: (199003580490996937385700574896945540598022800596234735845060608*c^11 - 2231775564134673369591360896441104968064573987453428858597896192*c^9 + 9059380955590935452908076715615184349205171682950532470730229760*c^7 - 15800230070673353126966893566966565584838780266680390836056532992*c^5 + 10588579989918333689244561660493903422844477934252574714018492416*c^3 - 1674437364670183608060321873661399293150836742956168666514462720*c ~ 3.1685678e-108)] [h: (-476129520652311186181465370369808155151343636733674598474190848*c^11 + 5339673924132679988505571542137193866727920079947702989360187392*c^9 - 21675181427241330739022204494343221536263611378112754065496268800*c^7 + 37803118673878007276054459449742249575259456641635146609253890048*c^5 - 25333893504202746760281952477796417046706813074626084714407575552*c^3 + 4006204601393385264974970158020618993472305235487720610879244288*c ~ 1.5599118e-106)] [i: (-168987617721249697603914057307133899067641912920340190379192320*c^11 + 1895154021573100255207587363237850929846870468105545322017533952*c^9 - 7692943021302928121865647233249325595909116748292896198771376128*c^7 + 13417061304386390365702862280526000870331444684847923643911833600*c^5 - 8991491024238675309012382078465979752676331228870312824049721344*c^3 + 1421879851003470675106689042322779762588241893518132410887143424*c ~ 6.8292123e-106)] [j: (-4254661091538675238991911079909674483535788833970784984857475072*c^11 + 47714963893466222950552325491190159513565656459362308254364014592*c^9 - 193687950590613008654564159097615699805718753116875500478497011712*c^7 + 337806103560728954736205113796887881283368532327387274754800900096*c^5 - 226381953472923365938562834747182625095563384596200044947169081344*c^3 + 35799172501948102114619201443610159335868483676862493625370454016*c ~ 1.9034668e-107)] [k: (2663029212983806116391675552295477687601586802371900938959151104*c^11 - 29865209005122574220278255248716734413728157956508572463939846144*c^9 + 121230965176406549566829523175746608938066324397152541270235850752*c^7 - 211435764859242208068736572750114483535263158406460410814864803840*c^5 + 141694424636895386573362550950359044101766141739300357963615557632*c^3 - 22407012009217552369204013007756134744543853711895886233140582400*c ~ 2.3814847e-107)] [l: (1573844605400996646848361773620329545254497871546891685948108800*c^11 - 17650275052464407050202343314555139586466785231768566084441788416*c^9 + 71647242779197160042057386545185254060571805530594168076121841664*c^7 - 124958087688752171191860771173961641464731060329466508656809922560*c^5 + 83741103831951060338709967035263798058166070704840182900907024384*c^3 - 13242496478336921007987292887508255431927324372087853162719252480*c ~ 3.6237854e-106)] / [c] [f] [h] [a] [i] [e] [l] [g] [k] [j] [d] [b]"
      ]
     },
     "execution_count": 5,
     "metadata": {},
     "output_type": "execute_result"
    }
   ],
   "source": [
    "iet = iets[0]\n",
    "iet"
   ]
  },
  {
   "cell_type": "markdown",
   "metadata": {},
   "source": [
    "Sanity check that none of them should have been discarded by Boshernitzan's algorithm right away:"
   ]
  },
  {
   "cell_type": "code",
   "execution_count": 6,
   "metadata": {},
   "outputs": [
    {
     "data": {
      "text/plain": [
       "False"
      ]
     },
     "execution_count": 6,
     "metadata": {},
     "output_type": "execute_result"
    }
   ],
   "source": [
    "any([iet.boshernitzanNoPeriodicTrajectory() for iet in iets])"
   ]
  },
  {
   "cell_type": "markdown",
   "metadata": {},
   "source": [
    "We already did quite a few induction steps on these; how many can be seen from the `invocation`, namely it's the `--limit` of `flow-decomposition`. When there is no such limit, it is just the default which currently is 256."
   ]
  },
  {
   "cell_type": "code",
   "execution_count": 8,
   "metadata": {},
   "outputs": [
    {
     "data": {
      "text/plain": [
       "['/dev/shm/ruth/flatsurvey/flatsurvey/worker/__main__.py',\n",
       " 'graphql',\n",
       " 'log',\n",
       " '--output=ngon-1-5-7.log',\n",
       " 'orbit-closure',\n",
       " 'undetermined-iet',\n",
       " 'flow-decompositions',\n",
       " '--limit=1024',\n",
       " 'pickle',\n",
       " '--base64',\n",
       " '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']"
      ]
     },
     "execution_count": 8,
     "metadata": {},
     "output_type": "execute_result"
    }
   ],
   "source": [
    "undetermined.nodes()[0]['invocation']"
   ]
  },
  {
   "cell_type": "markdown",
   "metadata": {},
   "source": [
    "Let's try harder by running more iterations on top of the previous ones:"
   ]
  },
  {
   "cell_type": "code",
   "execution_count": 9,
   "metadata": {},
   "outputs": [
    {
     "data": {
      "text/plain": [
       "[LIMIT_REACHED,\n",
       " LIMIT_REACHED,\n",
       " LIMIT_REACHED,\n",
       " LIMIT_REACHED,\n",
       " LIMIT_REACHED,\n",
       " LIMIT_REACHED,\n",
       " LIMIT_REACHED,\n",
       " LIMIT_REACHED,\n",
       " LIMIT_REACHED,\n",
       " LIMIT_REACHED,\n",
       " LIMIT_REACHED,\n",
       " LIMIT_REACHED,\n",
       " LIMIT_REACHED,\n",
       " LIMIT_REACHED,\n",
       " LIMIT_REACHED,\n",
       " LIMIT_REACHED,\n",
       " LIMIT_REACHED,\n",
       " LIMIT_REACHED,\n",
       " LIMIT_REACHED,\n",
       " LIMIT_REACHED,\n",
       " LIMIT_REACHED,\n",
       " LIMIT_REACHED,\n",
       " LIMIT_REACHED,\n",
       " LIMIT_REACHED,\n",
       " LIMIT_REACHED,\n",
       " LIMIT_REACHED,\n",
       " LIMIT_REACHED,\n",
       " LIMIT_REACHED,\n",
       " LIMIT_REACHED,\n",
       " LIMIT_REACHED,\n",
       " LIMIT_REACHED,\n",
       " LIMIT_REACHED]"
      ]
     },
     "execution_count": 9,
     "metadata": {},
     "output_type": "execute_result"
    }
   ],
   "source": [
    "[iet.induce(1000R) for iet in iets]"
   ]
  },
  {
   "cell_type": "markdown",
   "metadata": {},
   "source": [
    "## Surfaces with non-dense Orbit Closure"
   ]
  },
  {
   "cell_type": "code",
   "execution_count": null,
   "metadata": {},
   "outputs": [],
   "source": [
    "from flatsurvey.jobs import OrbitClosure"
   ]
  },
  {
   "cell_type": "markdown",
   "metadata": {},
   "source": [
    "We pull all OrbitClosures from the cache where we could not determine that the orbit closure was dense. Since we can currently never determine that the orbit closure is *not* dense, these are the ones where the search was inconclusive, that is, it reported `None` which turns to `null` in this API."
   ]
  },
  {
   "cell_type": "code",
   "execution_count": null,
   "metadata": {},
   "outputs": [],
   "source": [
    "nondense = cache.query(job=OrbitClosure, result_filter=\"dense: { isNull: true }\")"
   ]
  },
  {
   "cell_type": "markdown",
   "metadata": {},
   "source": [
    "The underlying objects from the database are in `.nodes()`. Each of these nodes corresponds to one `OrbitClosure` computation. The corresponding surface is a pickle that can be recovered with such a call:"
   ]
  },
  {
   "cell_type": "code",
   "execution_count": null,
   "metadata": {},
   "outputs": [],
   "source": [
    "nondense.nodes()[0]['surface']()"
   ]
  },
  {
   "cell_type": "markdown",
   "metadata": {},
   "source": [
    "Let's recover all the surfaces and remove duplicates:"
   ]
  },
  {
   "cell_type": "code",
   "execution_count": null,
   "metadata": {},
   "outputs": [],
   "source": [
    "surfaces = set(node['surface']() for node in nondense.nodes())"
   ]
  },
  {
   "cell_type": "markdown",
   "metadata": {},
   "source": [
    "We remove all the surfaces that we already know about as encoded by `.reference()`."
   ]
  },
  {
   "cell_type": "code",
   "execution_count": null,
   "metadata": {},
   "outputs": [],
   "source": [
    "surfaces = set(surface for surface in surfaces if surface.reference() is None)"
   ]
  },
  {
   "cell_type": "markdown",
   "metadata": {},
   "source": [
    "Note that this set might appear to contain duplicates since e.g. two quadrilaterals with differently chosen random lengths are printed in the same way. Let's remove these \"duplicates\" as well."
   ]
  },
  {
   "cell_type": "code",
   "execution_count": null,
   "metadata": {},
   "outputs": [],
   "source": [
    "surfaces = set(str(surface) for surface in surfaces)"
   ]
  },
  {
   "cell_type": "markdown",
   "metadata": {},
   "source": [
    "Some of the orbit closure computations might not have found the full dimension of the orbit closure because they did not search deep enough. Let's recover all the computations for our surfaces and remove the surfaces where some run reported a dense orbit closure.\n",
    "\n",
    "We could use `cache.query` again for this. To determine the cached results for a fixed surface, `cache.results()` provides a wrapper around `cache.query` for this."
   ]
  },
  {
   "cell_type": "code",
   "execution_count": null,
   "metadata": {},
   "outputs": [],
   "source": [
    "orbit_closures = {\n",
    "    name: cache.results(job=OrbitClosure, surface=name) for name in surfaces\n",
    "}"
   ]
  },
  {
   "cell_type": "markdown",
   "metadata": {},
   "source": [
    "We filter out all the surfaces where some run determined that the orbit closure was dense.\n",
    "\n",
    "This could be done by comparing `node['dense']` for each node in `.nodes()`. Here we use `.reduce()` which calls into `OrbitClosure` to combine the results of several runs."
   ]
  },
  {
   "cell_type": "code",
   "execution_count": null,
   "metadata": {},
   "outputs": [],
   "source": [
    "orbit_closure = {\n",
    "    name: cached for (name, cached) in orbit_closures.items() if cached.reduce() is None\n",
    "}"
   ]
  },
  {
   "cell_type": "code",
   "execution_count": null,
   "metadata": {},
   "outputs": [],
   "source": [
    "orbit_closures"
   ]
  },
  {
   "cell_type": "markdown",
   "metadata": {},
   "source": [
    "Let's zoom in on one particular surface:"
   ]
  },
  {
   "cell_type": "code",
   "execution_count": null,
   "metadata": {},
   "outputs": [],
   "source": [
    "orbit_closures = orbit_closures['Ngon([3, 4, 13])']"
   ]
  },
  {
   "cell_type": "markdown",
   "metadata": {},
   "source": [
    "Again, `.nodes()` contains the raw data stored in the database."
   ]
  },
  {
   "cell_type": "code",
   "execution_count": null,
   "metadata": {},
   "outputs": [],
   "source": [
    "orbit_closures.nodes()"
   ]
  },
  {
   "cell_type": "markdown",
   "metadata": {},
   "source": [
    "To unpickle all the `['result']` objects at once, we can use `.results()`:"
   ]
  },
  {
   "cell_type": "code",
   "execution_count": null,
   "metadata": {},
   "outputs": [],
   "source": [
    "orbit_closures.results()"
   ]
  },
  {
   "cell_type": "markdown",
   "metadata": {},
   "source": [
    "## Flow Decompositions with Undetermined Components"
   ]
  },
  {
   "cell_type": "code",
   "execution_count": null,
   "metadata": {},
   "outputs": [],
   "source": [
    "from flatsurvey.jobs import FlowDecompositions"
   ]
  },
  {
   "cell_type": "markdown",
   "metadata": {},
   "source": [
    "We pull all the flow decompositions coming from triangles from the database that had undetermined components.\n",
    "\n",
    "Note we need to `limit` the result to the most recent decompositions since there are way too many (>500k) in the database to download them all:"
   ]
  },
  {
   "cell_type": "code",
   "execution_count": null,
   "metadata": {},
   "outputs": [],
   "source": [
    "undetermined = cache.query(job=FlowDecompositions, surface_filter=\"vertices: { equalTo: 3 }\", result_filter=\"undetermined: { notEqualTo: 0 }\", limit=32)"
   ]
  },
  {
   "cell_type": "markdown",
   "metadata": {},
   "source": [
    "Let's zoom in on one such decomposition:"
   ]
  },
  {
   "cell_type": "code",
   "execution_count": null,
   "metadata": {},
   "outputs": [],
   "source": [
    "undetermined = undetermined.nodes()[0]"
   ]
  },
  {
   "cell_type": "markdown",
   "metadata": {},
   "source": [
    "Unforfunately, `flatsurf::FlowDecomposition` cannot be pickled currently so trying to recover the pickle fails:"
   ]
  },
  {
   "cell_type": "code",
   "execution_count": null,
   "metadata": {},
   "outputs": [],
   "source": [
    "undetermined['result']"
   ]
  },
  {
   "cell_type": "markdown",
   "metadata": {},
   "source": [
    "But we can recover the surface and the direction that were used:"
   ]
  },
  {
   "cell_type": "code",
   "execution_count": null,
   "metadata": {},
   "outputs": [],
   "source": [
    "import pyflatsurf\n",
    "surface = undetermined['surface']()\n",
    "direction = undetermined['orientation']()"
   ]
  },
  {
   "cell_type": "code",
   "execution_count": null,
   "metadata": {},
   "outputs": [],
   "source": [
    "surface"
   ]
  },
  {
   "cell_type": "markdown",
   "metadata": {},
   "source": [
    "And from this we can recover the decomposition:"
   ]
  },
  {
   "cell_type": "code",
   "execution_count": null,
   "metadata": {},
   "outputs": [],
   "source": [
    "pyflatsurf.flatsurf.makeFlowDecomposition(surface.flat_triangulation(), direction)"
   ]
  }
 ],
 "metadata": {
  "kernelspec": {
   "display_name": "SageMath 9.2",
   "language": "sage",
   "name": "sagemath"
  },
  "language_info": {
   "codemirror_mode": {
    "name": "ipython",
    "version": 3
   },
   "file_extension": ".py",
   "mimetype": "text/x-python",
   "name": "python",
   "nbconvert_exporter": "python",
   "pygments_lexer": "ipython3",
   "version": "3.7.6"
  }
 },
 "nbformat": 4,
 "nbformat_minor": 4
}
