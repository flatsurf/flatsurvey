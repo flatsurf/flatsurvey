{
 "cells": [
  {
   "cell_type": "markdown",
   "metadata": {},
   "source": [
    "# Querying our GraphQL API"
   ]
  },
  {
   "cell_type": "markdown",
   "metadata": {},
   "source": [
    "The PostgreSQL database exposes a GraphQL API that one could query directly. Usually it's more convenient to use the caching interface that we use in the flatsurvey scripts themselves to speed up surveys."
   ]
  },
  {
   "cell_type": "code",
   "execution_count": 1,
   "metadata": {},
   "outputs": [],
   "source": [
    "from flatsurvey.cache import GraphQL\n",
    "cache = GraphQL()"
   ]
  },
  {
   "cell_type": "markdown",
   "metadata": {},
   "source": [
    "## Surfaces with non-dense Orbit Closure"
   ]
  },
  {
   "cell_type": "code",
   "execution_count": 2,
   "metadata": {},
   "outputs": [],
   "source": [
    "from flatsurvey.jobs import OrbitClosure"
   ]
  },
  {
   "cell_type": "markdown",
   "metadata": {},
   "source": [
    "We pull all OrbitClosures from the cache where we could not determine that the orbit closure was dense. Since we can currently never determine that the orbit closure is *not* dense, these are the ones where the search was inconclusive, that is, it reported `None` which turns to `null` in this API."
   ]
  },
  {
   "cell_type": "code",
   "execution_count": 3,
   "metadata": {},
   "outputs": [],
   "source": [
    "nondense = cache.query(job=OrbitClosure, result_filter=\"dense: { isNull: true }\")"
   ]
  },
  {
   "cell_type": "markdown",
   "metadata": {},
   "source": [
    "The underlying objects from the database are in `.nodes()`. Each of these nodes corresponds to one `OrbitClosure` computation. The corresponding surface is a pickle that can be recovered with such a call:"
   ]
  },
  {
   "cell_type": "code",
   "execution_count": 4,
   "metadata": {},
   "outputs": [
    {
     "name": "stderr",
     "output_type": "stream",
     "text": [
      "/tmp/ruth/miniconda/envs/survey/lib/python3.7/site-packages/sage/repl/ipython_kernel/__main__.py:1: DeprecationWarning: \n",
      "Importing call_method from here is deprecated. If you need to use it, please import it directly from sage.misc.call\n",
      "See https://trac.sagemath.org/29869 for details.\n",
      "  from ipykernel.kernelapp import IPKernelApp\n"
     ]
    },
    {
     "data": {
      "text/plain": [
       "Ngon([2, 2, 3])"
      ]
     },
     "execution_count": 4,
     "metadata": {},
     "output_type": "execute_result"
    }
   ],
   "source": [
    "nondense.nodes()[0]['surface']()"
   ]
  },
  {
   "cell_type": "markdown",
   "metadata": {},
   "source": [
    "Let's recover all the surfaces and remove duplicates:"
   ]
  },
  {
   "cell_type": "code",
   "execution_count": 5,
   "metadata": {},
   "outputs": [],
   "source": [
    "surfaces = set(node['surface']() for node in nondense.nodes())"
   ]
  },
  {
   "cell_type": "markdown",
   "metadata": {},
   "source": [
    "We remove all the surfaces that we already know about as encoded by `.reference()`."
   ]
  },
  {
   "cell_type": "code",
   "execution_count": 6,
   "metadata": {},
   "outputs": [],
   "source": [
    "surfaces = set(surface for surface in surfaces if surface.reference() is None)"
   ]
  },
  {
   "cell_type": "markdown",
   "metadata": {},
   "source": [
    "Note that this set might appear to contain duplicates since e.g. two quadrilaterals with differently chosen random lengths are printed in the same way. Let's remove these \"duplicates\" as well."
   ]
  },
  {
   "cell_type": "code",
   "execution_count": 7,
   "metadata": {},
   "outputs": [],
   "source": [
    "surfaces = set(str(surface) for surface in surfaces)"
   ]
  },
  {
   "cell_type": "markdown",
   "metadata": {},
   "source": [
    "Some of the orbit closure computations might not have found the full dimension of the orbit closure because they did not search deep enough. Let's recover all the computations for our surfaces and remove the surfaces where some run reported a dense orbit closure.\n",
    "\n",
    "We could use `cache.query` again for this. To determine the cached results for a fixed surface, `cache.results()` provides a wrapper around `cache.query` for this."
   ]
  },
  {
   "cell_type": "code",
   "execution_count": 8,
   "metadata": {},
   "outputs": [],
   "source": [
    "orbit_closures = {\n",
    "    name: cache.results(job=OrbitClosure, surface=name) for name in surfaces\n",
    "}"
   ]
  },
  {
   "cell_type": "markdown",
   "metadata": {},
   "source": [
    "We filter out all the surfaces where some run determined that the orbit closure was dense.\n",
    "\n",
    "This could be done by comparing `node['dense']` for each node in `.nodes()`. Here we use `.reduce()` which calls into `OrbitClosure` to combine the results of several runs."
   ]
  },
  {
   "cell_type": "code",
   "execution_count": 9,
   "metadata": {},
   "outputs": [],
   "source": [
    "orbit_closure = {\n",
    "    name: cached for (name, cached) in orbit_closures.items() if cached.reduce() is None\n",
    "}"
   ]
  },
  {
   "cell_type": "code",
   "execution_count": 10,
   "metadata": {},
   "outputs": [
    {
     "data": {
      "text/plain": [
       "{'Ngon([1, 4, 11])': Cached OrbitClosures,\n",
       " 'Ngon([3, 4, 13])': Cached OrbitClosures,\n",
       " 'Ngon([1, 4, 15])': Cached OrbitClosures}"
      ]
     },
     "execution_count": 10,
     "metadata": {},
     "output_type": "execute_result"
    }
   ],
   "source": [
    "orbit_closures"
   ]
  },
  {
   "cell_type": "markdown",
   "metadata": {},
   "source": [
    "Let's zoom in on one particular surface:"
   ]
  },
  {
   "cell_type": "code",
   "execution_count": 11,
   "metadata": {},
   "outputs": [],
   "source": [
    "orbit_closures = orbit_closures['Ngon([3, 4, 13])']"
   ]
  },
  {
   "cell_type": "markdown",
   "metadata": {},
   "source": [
    "Again, `.nodes()` contains the raw data stored in the database."
   ]
  },
  {
   "cell_type": "code",
   "execution_count": 12,
   "metadata": {},
   "outputs": [
    {
     "data": {
      "text/plain": [
       "[{'lot': 6856453675869781000,\n",
       "  'result': <function GraphQL.resolve.<locals>.restore at 0x7fbcbfa510e0>,\n",
       "  'command': ['orbit-closure'],\n",
       "  'dimension': 4,\n",
       "  'directions': 460,\n",
       "  'invocation': ['/dev/shm/ruth/survey/flatsurvey/worker/__main__.py',\n",
       "   'pickle',\n",
       "   '--base64',\n",
       "   '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',\n",
       "   'orbit-closure',\n",
       "   'log',\n",
       "   '--output=ngon-3-4-13.log',\n",
       "   'graphql'],\n",
       "  'directions_with_cylinders': 460,\n",
       "  'surface': <function GraphQL.resolve.<locals>.restore at 0x7fbcbfa51200>,\n",
       "  'timestamp': datetime.datetime(2020, 10, 27, 11, 50, 46, 499347, tzinfo=tzutc())}]"
      ]
     },
     "execution_count": 12,
     "metadata": {},
     "output_type": "execute_result"
    }
   ],
   "source": [
    "orbit_closures.nodes()"
   ]
  },
  {
   "cell_type": "markdown",
   "metadata": {},
   "source": [
    "To unpickle all the `['result']` objects at once, we can use `.results()`:"
   ]
  },
  {
   "cell_type": "code",
   "execution_count": 13,
   "metadata": {},
   "outputs": [
    {
     "name": "stderr",
     "output_type": "stream",
     "text": [
      "/tmp/ruth/miniconda/envs/survey/lib/python3.7/importlib/_bootstrap.py:219: RuntimeWarning: sage.structure.element.Vector size changed, may indicate binary incompatibility. Expected 40 from C header, got 48 from PyObject\n",
      "  return f(*args, **kwds)\n"
     ]
    },
    {
     "data": {
      "text/plain": [
       "[GL(2,R)-orbit closure of dimension at least 4 in H_8(12, 2) (ambient dimension 17)]"
      ]
     },
     "execution_count": 13,
     "metadata": {},
     "output_type": "execute_result"
    }
   ],
   "source": [
    "orbit_closures.results()"
   ]
  },
  {
   "cell_type": "markdown",
   "metadata": {},
   "source": [
    "## Flow Decompositions with Undetermined Components"
   ]
  },
  {
   "cell_type": "code",
   "execution_count": 14,
   "metadata": {},
   "outputs": [],
   "source": [
    "from flatsurvey.jobs import FlowDecompositions"
   ]
  },
  {
   "cell_type": "markdown",
   "metadata": {},
   "source": [
    "We pull all the flow decompositions coming from triangles from the database that had undetermined components.\n",
    "\n",
    "Note we need to `limit` the result to the most recent decompositions since there are way too many (>500k) in the database to download them all:"
   ]
  },
  {
   "cell_type": "code",
   "execution_count": 15,
   "metadata": {},
   "outputs": [],
   "source": [
    "undetermined = cache.query(job=FlowDecompositions, surface_filter=\"vertices: { equalTo: 3 }\", result_filter=\"undetermined: { notEqualTo: 0 }\", limit=32)"
   ]
  },
  {
   "cell_type": "markdown",
   "metadata": {},
   "source": [
    "Let's zoom in on one such decomposition:"
   ]
  },
  {
   "cell_type": "code",
   "execution_count": 16,
   "metadata": {},
   "outputs": [],
   "source": [
    "undetermined = undetermined.nodes()[0]"
   ]
  },
  {
   "cell_type": "markdown",
   "metadata": {},
   "source": [
    "Unforfunately, `flatsurf::FlowDecomposition` cannot be pickled currently so trying to recover the pickle fails:"
   ]
  },
  {
   "cell_type": "code",
   "execution_count": 17,
   "metadata": {},
   "outputs": [
    {
     "data": {
      "text/plain": [
       "{'error': 'only default constructible types can be handled by cereal but <class cppyy.gbl.flatsurf.FlowDecomposition<flatsurf::FlatTriangulation<eantic::renf_elem_class> > at 0x563721e96b20> is not default constructible; you might wrap your type into a smart pointer or make it default constructible',\n",
       " 'description': 'FlowDecomposition with 0 cylinders, 0 minimal components and 1 undetermined components'}"
      ]
     },
     "execution_count": 17,
     "metadata": {},
     "output_type": "execute_result"
    }
   ],
   "source": [
    "undetermined['result']"
   ]
  },
  {
   "cell_type": "markdown",
   "metadata": {},
   "source": [
    "But we can recover the surface and the direction that were used:"
   ]
  },
  {
   "cell_type": "code",
   "execution_count": 18,
   "metadata": {},
   "outputs": [],
   "source": [
    "import pyflatsurf\n",
    "surface = undetermined['surface']()\n",
    "direction = undetermined['orientation']()"
   ]
  },
  {
   "cell_type": "code",
   "execution_count": 19,
   "metadata": {},
   "outputs": [
    {
     "data": {
      "text/plain": [
       "Ngon([4, 8, 9])"
      ]
     },
     "execution_count": 19,
     "metadata": {},
     "output_type": "execute_result"
    }
   ],
   "source": [
    "surface"
   ]
  },
  {
   "cell_type": "markdown",
   "metadata": {},
   "source": [
    "And from this we can recover the decomposition:"
   ]
  },
  {
   "cell_type": "code",
   "execution_count": 20,
   "metadata": {},
   "outputs": [
    {
     "data": {
      "text/plain": [
       "FlowDecomposition with 0 cylinders, 0 minimal components and 1 undetermined components"
      ]
     },
     "execution_count": 20,
     "metadata": {},
     "output_type": "execute_result"
    }
   ],
   "source": [
    "pyflatsurf.flatsurf.makeFlowDecomposition(surface.flat_triangulation(), direction)"
   ]
  }
 ],
 "metadata": {
  "kernelspec": {
   "display_name": "SageMath 9.2",
   "language": "sage",
   "name": "sagemath"
  },
  "language_info": {
   "codemirror_mode": {
    "name": "ipython",
    "version": 3
   },
   "file_extension": ".py",
   "mimetype": "text/x-python",
   "name": "python",
   "nbconvert_exporter": "python",
   "pygments_lexer": "ipython3",
   "version": "3.7.8"
  }
 },
 "nbformat": 4,
 "nbformat_minor": 4
}
